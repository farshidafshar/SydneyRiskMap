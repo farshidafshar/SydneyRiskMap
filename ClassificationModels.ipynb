{
 "cells": [
  {
   "cell_type": "code",
   "execution_count": 39,
   "id": "640fdcbe-1860-435d-8ede-61b0f12e1689",
   "metadata": {},
   "outputs": [],
   "source": [
    "import warnings\n",
    "warnings.simplefilter(\"ignore\")\n",
    "import pandas as pd\n",
    "import numpy as np\n",
    "import sklearn\n",
    "import dtale\n",
    "from sklearn.ensemble import ExtraTreesClassifier, RandomForestClassifier,AdaBoostClassifier\n",
    "from sklearn.model_selection import GridSearchCV \n"
   ]
  },
  {
   "cell_type": "code",
   "execution_count": 2,
   "id": "bc0d02ab-ca7b-49a3-bdea-1b2ec32954bf",
   "metadata": {},
   "outputs": [],
   "source": [
    "geom_varbs=[\n",
    "'Street type'\n",
    ",'Identifying feature type'\n",
    ",'School zone location'\n",
    ",'School zone active'\n",
    ",'Type of location'\n",
    ",'Alignment'\n",
    ",'Road surface'\n",
    ",'Signals operation'\n",
    ",'Speed limit'\n",
    "]\n",
    "\n",
    "date_time_varbs=[\n",
    "'Month of crash'\n",
    ",'Day of week of crash'\n",
    ",'Two-hour intervals'\n",
    "]\n",
    "\n",
    "weather_varbs=[\n",
    "'Surface condition',\n",
    "'Weather',\n",
    "'Natural lighting'\n",
    "]\n",
    "\n",
    "dependent_variable=['Degree of crash - detailed']\n"
   ]
  },
  {
   "cell_type": "code",
   "execution_count": 3,
   "id": "16467a93-ae4e-4717-bfdc-dfb1305ea66f",
   "metadata": {},
   "outputs": [],
   "source": [
    "df_crashes=pd.read_csv('SydneyCrash.csv')\n"
   ]
  },
  {
   "cell_type": "code",
   "execution_count": 16,
   "id": "f54d08c9-d198-4185-b1c4-08f15874ec72",
   "metadata": {},
   "outputs": [],
   "source": [
    "vul_users=pd.read_excel('NSW_Road_Crash_Data_2017-2021_TRAFFIC_UNIT.xlsx')\n",
    "vul_users['Vul_user_presense']=np.where(vul_users['TU type group'].isin(['Motorcycle','Pedestrian','Pedal cycle','Non-motorised vehicle']),1,0)\n",
    "vul_pvt=vul_users.pivot_table(index=['Crash ID'], values=['Vul_user_presense'],aggfunc='sum').reset_index()"
   ]
  },
  {
   "cell_type": "code",
   "execution_count": 47,
   "id": "9df40b09-ee52-41a2-9cf2-093d5b5d6907",
   "metadata": {},
   "outputs": [],
   "source": [
    "new_dep_var_dict={1:\"NoInjury\",\n",
    "                  2:\"MinorInjury\",\n",
    "                  3:\"MajorInjury_Fatal\"}"
   ]
  },
  {
   "cell_type": "code",
   "execution_count": 26,
   "id": "e6c23023-a983-4260-9d21-a88080815ecd",
   "metadata": {},
   "outputs": [],
   "source": [
    "severity_dict=dict(zip(df_crashes[dependent_variable].iloc[:,0].unique(),\n",
    "         [5,2,1,3,4]))\n",
    "df_crashes['DepVar']=df_crashes[dependent_variable[0]].map(severity_dict)\n",
    "df_crashes['DepVar']=np.where(df_crashes['DepVar']>=4,3\n",
    "                     ,np.where(df_crashes['DepVar']==1,1,2))\n",
    "df_crashes['Vul_user_presense']=df_crashes['Crash ID'].map(dict(zip(vul_pvt['Crash ID'],vul_pvt['Vul_user_presense'])))\n",
    "\n",
    "#df_x=df_crashes.loc[:,geom_varbs+date_time_varbs+weather_varbs+['DepVar']]\n",
    "#dtale.show(df_x,\n",
    "#          open_browser=True,ignore_duplicate=True)"
   ]
  },
  {
   "cell_type": "code",
   "execution_count": 27,
   "id": "824803d0-e57f-42d9-ad76-2c1b6749387a",
   "metadata": {},
   "outputs": [
    {
     "data": {
      "text/plain": [
       "0.500000    20745\n",
       "0.400000    20398\n",
       "0.600000     7115\n",
       "0.700000     4002\n",
       "0.300000     2850\n",
       "0.900000     1263\n",
       "0.800000      507\n",
       "1.000000      489\n",
       "0.200000      116\n",
       "0.000000       28\n",
       "0.100000       21\n",
       "0.495597        4\n",
       "Name: ModelVar_SpeedLimit, dtype: int64"
      ]
     },
     "execution_count": 27,
     "metadata": {},
     "output_type": "execute_result"
    }
   ],
   "source": [
    "from sklearn.preprocessing import Normalizer,MinMaxScaler\n",
    "df_crashes['Speed limit_num']=pd.to_numeric(df_crashes['Speed limit'].str.strip(' km/h'), errors='coerce')\n",
    "df_crashes['ModelVar_SpeedLimit']=MinMaxScaler()\\\n",
    ".fit_transform(np.array(df_crashes['Speed limit_num'].fillna(df_crashes['Speed limit_num'].mean()).astype(float)).reshape(-1, 1))\n",
    "df_crashes['ModelVar_VulUser']=MinMaxScaler().fit_transform(np.array(df_crashes['Vul_user_presense']).reshape(-1, 1))\n",
    "df_crashes['ModelVar_StreetType_HWY']=np.where(df_crashes['Street type']=='HWY',1,0)\n",
    "df_crashes['ModelVar_StreetType_AVE']=np.where(df_crashes['Street type']=='AVE',1,0)\n",
    "df_crashes['ModelVar_StreetType_AVE']=np.where(df_crashes['Street type']=='AVE',1,0)\n",
    "df_crashes['ModelVar_FeatureType_HN']=np.where(df_crashes['Identifying feature type']=='HN',1,0)\n",
    "df_crashes['ModelVar_LocationType_X_intersection']=np.where(df_crashes['Type of location']=='X-intersection',1,0)\n",
    "df_crashes['ModelVar_HourInterval_LateNight']=np.where(df_crashes['Two-hour intervals'].isin(['22:00 - Midnight', '00:01 - 01:59']),1,0)\n",
    "df_crashes['ModelVar_SurfaceCondition_Wet']=np.where(df_crashes['Surface condition']=='Wet',1,0)\n",
    "df_crashes['ModelVar_Weather_Overcast']=np.where(df_crashes['Weather']=='Overcast',1,0)\n",
    "df_crashes['ModelVar_Weather_Raining']=np.where(df_crashes['Weather']=='Raining',1,0)\n",
    "df_crashes['ModelVar_NaturalLighting_Darkness']=np.where(df_crashes['Natural lighting']=='Darkness',1,0)\n",
    "df_crashes['ModelVar_NaturalLighting_Dusk']=np.where(df_crashes['Natural lighting']=='Dusk',1,0)\n",
    "df_crashes['ModelVar_SchoolZoneLocation_Yes']=np.where(df_crashes['School zone location']=='Yes',1,0)\n",
    "df_crashes['ModelVar_SchoolZoneActive_Yes']=np.where(df_crashes['School zone active']=='Yes',1,0)\n",
    "df_crashes['ModelVar_Alignment_Curved']=np.where(df_crashes['Alignment']=='Curved',1,0)\n",
    "df_crashes['ModelVar_SignalsOperation_On']=np.where(df_crashes['Signals operation']=='On',1,0)\n",
    "df_crashes['ModelVar_Month_May']=np.where(df_crashes['Month of crash']=='May',1,0)\n",
    "df_crashes['ModelVar_Month_September']=np.where(df_crashes['Month of crash']=='September',1,0)\n",
    "df_crashes['ModelVar_WeekDay_Weekend']=np.where(df_crashes['Day of week of crash'].isin(['Saturday','Sunday']),1,0)\n",
    "df_crashes['ModelVar_SpeedLimit'].value_counts(normalize=False)"
   ]
  },
  {
   "cell_type": "code",
   "execution_count": 29,
   "id": "9a42cee7-3edc-4220-a2f5-13e8f7ba45bd",
   "metadata": {},
   "outputs": [],
   "source": [
    "x_varbs=[f for f in df_crashes.columns if 'ModelVar_' in f]\n",
    "y_varb=['DepVar']\n",
    "x_train,x_test=(df_crashes[df_crashes['Reporting year']<=2020][x_varbs].reset_index(drop=True)\n",
    "                ,df_crashes[df_crashes['Reporting year']>2020][x_varbs].reset_index(drop=True))\n",
    "\n",
    "y_train,y_test=(df_crashes[df_crashes['Reporting year']<=2020][y_varb[0]].reset_index(drop=True)\n",
    "                ,df_crashes[df_crashes['Reporting year']>2020][y_varb[0]].reset_index(drop=True))"
   ]
  },
  {
   "cell_type": "markdown",
   "id": "46b2e7aa-0e3a-4d75-85ed-228dd0d21cb5",
   "metadata": {},
   "source": [
    "### ORF"
   ]
  },
  {
   "cell_type": "code",
   "execution_count": 30,
   "id": "ca0ae0f5-46dc-40e7-9dd6-6bdf7e913fc4",
   "metadata": {},
   "outputs": [
    {
     "name": "stdout",
     "output_type": "stream",
     "text": [
      "Prediction Performance of OrderedForest\n",
      "--------------------------------------------------------------------------------\n",
      "            mse       rps  accuracy\n",
      "value  0.572761  0.165106  0.525641\n",
      "--------------------------------------------------------------------------------\n",
      "\n",
      "\n",
      "Confusion Matrix for OrderedForest\n",
      "--------------------------------------------------------------------------------\n",
      "                         Predictions \n",
      "--------------------------------------------------------------------------------\n",
      "         Class 1  Class 2  Class 3\n",
      "Class 1   3720.0  10894.0     89.0\n",
      "Class 2   2268.0  20566.0    816.0\n",
      "Class 3    824.0   7966.0   1042.0\n",
      "--------------------------------------------------------------------------------\n",
      "\n",
      "\n",
      "----------------------------------------------------------------------\n",
      "Marginal Effects of OrderedForest, evaluation point: mean\n",
      "----------------------------------------------------------------------\n",
      "Effects:\n",
      "----------------------------------------------------------------------\n",
      "                                          Cat1      Cat2      Cat3\n",
      "ModelVar_SpeedLimit                   0.000613 -0.020683  0.020070\n",
      "ModelVar_StreetType_HWY              -0.000185  0.007834 -0.007648\n",
      "ModelVar_StreetType_AVE               0.011249 -0.017626  0.006376\n",
      "ModelVar_FeatureType_HN               0.061623 -0.057811 -0.003812\n",
      "ModelVar_LocationType_X_intersection -0.031728  0.029769  0.001959\n",
      "ModelVar_HourInterval_LateNight       0.045981 -0.044289 -0.001692\n",
      "ModelVar_SurfaceCondition_Wet         0.027141 -0.020825 -0.006316\n",
      "ModelVar_Weather_Overcast             0.036590 -0.040942  0.004352\n",
      "ModelVar_Weather_Raining              0.013254 -0.016713  0.003458\n",
      "ModelVar_NaturalLighting_Darkness     0.041171 -0.049166  0.007995\n",
      "ModelVar_NaturalLighting_Dusk         0.009602  0.010642 -0.020244\n",
      "ModelVar_SchoolZoneLocation_Yes       0.004373 -0.006917  0.002544\n",
      "ModelVar_SchoolZoneActive_Yes        -0.006334  0.011174 -0.004840\n",
      "ModelVar_Alignment_Curved             0.001089 -0.043456  0.042367\n",
      "ModelVar_SignalsOperation_On         -0.046429  0.053585 -0.007156\n",
      "ModelVar_Month_May                   -0.004827 -0.002969  0.007796\n",
      "ModelVar_Month_September              0.017528  0.008563 -0.026092\n",
      "ModelVar_WeekDay_Weekend              0.007451 -0.006254 -0.001197\n",
      "ModelVar_VulUser                      0.000000  0.000000  0.000000\n",
      "----------------------------------------------------------------------\n"
     ]
    },
    {
     "data": {
      "text/plain": [
       "{'output': 'margin',\n",
       " 'eval_point': 'mean',\n",
       " 'X_eval': [0, 1, 2, 3, 4, 5, 6, 7, 8, 9, 10, 11, 12, 13, 14, 15, 16, 17, 18],\n",
       " 'window': 0.1,\n",
       " 'effects': array([[ 0.00061288, -0.02068321,  0.02007033],\n",
       "        [-0.00018535,  0.00783376, -0.00764841],\n",
       "        [ 0.01124925, -0.01762566,  0.00637641],\n",
       "        [ 0.06162296, -0.05781084, -0.00381212],\n",
       "        [-0.03172788,  0.02976901,  0.00195887],\n",
       "        [ 0.04598057, -0.04428891, -0.00169166],\n",
       "        [ 0.0271412 , -0.02082509, -0.00631611],\n",
       "        [ 0.03658995, -0.04094225,  0.0043523 ],\n",
       "        [ 0.01325428, -0.01671267,  0.00345839],\n",
       "        [ 0.0411709 , -0.04916612,  0.00799521],\n",
       "        [ 0.00960176,  0.01064186, -0.02024363],\n",
       "        [ 0.00437286, -0.00691706,  0.00254421],\n",
       "        [-0.00633408,  0.01117365, -0.00483957],\n",
       "        [ 0.0010886 , -0.0434559 ,  0.0423673 ],\n",
       "        [-0.04642854,  0.05358479, -0.00715626],\n",
       "        [-0.00482699, -0.00296877,  0.00779576],\n",
       "        [ 0.01752846,  0.00856324, -0.02609171],\n",
       "        [ 0.00745083, -0.00625427, -0.00119656],\n",
       "        [ 0.        ,  0.        ,  0.        ]]),\n",
       " 'variances': None,\n",
       " 'std_errors': None,\n",
       " 't-values': None,\n",
       " 'p-values': None,\n",
       " 'ci-up': None,\n",
       " 'ci-down': None}"
      ]
     },
     "execution_count": 30,
     "metadata": {},
     "output_type": "execute_result"
    }
   ],
   "source": [
    "from orf import OrderedForest\n",
    "# initiate the class with tuning parameters\n",
    "oforest = OrderedForest(n_estimators=300, min_samples_leaf=20, honesty =True,\n",
    "                        max_features=0.20,replace =False)\n",
    "# fit the model\n",
    "oforest.fit(X=x_train, y=y_train)\n",
    "# predict ordered probabilities\n",
    "oforest.predict(X=x_test)\n",
    "# predict ordered classes\n",
    "oforest.predict(X=x_test, prob=False)\n",
    "# evaluate the prediction performance\n",
    "oforest.performance()\n",
    "# evaluate marginal effects\n",
    "oforest.margins(X=x_train)"
   ]
  },
  {
   "cell_type": "markdown",
   "id": "4ae01895-ae9e-4125-8e42-3a158b8e53b5",
   "metadata": {},
   "source": [
    "### SKlearn Models"
   ]
  },
  {
   "cell_type": "code",
   "execution_count": 32,
   "id": "2bffca38-6e29-4251-8d3b-c517acbc0a44",
   "metadata": {},
   "outputs": [
    {
     "name": "stdout",
     "output_type": "stream",
     "text": [
      "Fitting 5 folds for each of 1000 candidates, totalling 5000 fits\n"
     ]
    },
    {
     "data": {
      "text/html": [
       "<style>#sk-container-id-1 {color: black;background-color: white;}#sk-container-id-1 pre{padding: 0;}#sk-container-id-1 div.sk-toggleable {background-color: white;}#sk-container-id-1 label.sk-toggleable__label {cursor: pointer;display: block;width: 100%;margin-bottom: 0;padding: 0.3em;box-sizing: border-box;text-align: center;}#sk-container-id-1 label.sk-toggleable__label-arrow:before {content: \"▸\";float: left;margin-right: 0.25em;color: #696969;}#sk-container-id-1 label.sk-toggleable__label-arrow:hover:before {color: black;}#sk-container-id-1 div.sk-estimator:hover label.sk-toggleable__label-arrow:before {color: black;}#sk-container-id-1 div.sk-toggleable__content {max-height: 0;max-width: 0;overflow: hidden;text-align: left;background-color: #f0f8ff;}#sk-container-id-1 div.sk-toggleable__content pre {margin: 0.2em;color: black;border-radius: 0.25em;background-color: #f0f8ff;}#sk-container-id-1 input.sk-toggleable__control:checked~div.sk-toggleable__content {max-height: 200px;max-width: 100%;overflow: auto;}#sk-container-id-1 input.sk-toggleable__control:checked~label.sk-toggleable__label-arrow:before {content: \"▾\";}#sk-container-id-1 div.sk-estimator input.sk-toggleable__control:checked~label.sk-toggleable__label {background-color: #d4ebff;}#sk-container-id-1 div.sk-label input.sk-toggleable__control:checked~label.sk-toggleable__label {background-color: #d4ebff;}#sk-container-id-1 input.sk-hidden--visually {border: 0;clip: rect(1px 1px 1px 1px);clip: rect(1px, 1px, 1px, 1px);height: 1px;margin: -1px;overflow: hidden;padding: 0;position: absolute;width: 1px;}#sk-container-id-1 div.sk-estimator {font-family: monospace;background-color: #f0f8ff;border: 1px dotted black;border-radius: 0.25em;box-sizing: border-box;margin-bottom: 0.5em;}#sk-container-id-1 div.sk-estimator:hover {background-color: #d4ebff;}#sk-container-id-1 div.sk-parallel-item::after {content: \"\";width: 100%;border-bottom: 1px solid gray;flex-grow: 1;}#sk-container-id-1 div.sk-label:hover label.sk-toggleable__label {background-color: #d4ebff;}#sk-container-id-1 div.sk-serial::before {content: \"\";position: absolute;border-left: 1px solid gray;box-sizing: border-box;top: 0;bottom: 0;left: 50%;z-index: 0;}#sk-container-id-1 div.sk-serial {display: flex;flex-direction: column;align-items: center;background-color: white;padding-right: 0.2em;padding-left: 0.2em;position: relative;}#sk-container-id-1 div.sk-item {position: relative;z-index: 1;}#sk-container-id-1 div.sk-parallel {display: flex;align-items: stretch;justify-content: center;background-color: white;position: relative;}#sk-container-id-1 div.sk-item::before, #sk-container-id-1 div.sk-parallel-item::before {content: \"\";position: absolute;border-left: 1px solid gray;box-sizing: border-box;top: 0;bottom: 0;left: 50%;z-index: -1;}#sk-container-id-1 div.sk-parallel-item {display: flex;flex-direction: column;z-index: 1;position: relative;background-color: white;}#sk-container-id-1 div.sk-parallel-item:first-child::after {align-self: flex-end;width: 50%;}#sk-container-id-1 div.sk-parallel-item:last-child::after {align-self: flex-start;width: 50%;}#sk-container-id-1 div.sk-parallel-item:only-child::after {width: 0;}#sk-container-id-1 div.sk-dashed-wrapped {border: 1px dashed gray;margin: 0 0.4em 0.5em 0.4em;box-sizing: border-box;padding-bottom: 0.4em;background-color: white;}#sk-container-id-1 div.sk-label label {font-family: monospace;font-weight: bold;display: inline-block;line-height: 1.2em;}#sk-container-id-1 div.sk-label-container {text-align: center;}#sk-container-id-1 div.sk-container {/* jupyter's `normalize.less` sets `[hidden] { display: none; }` but bootstrap.min.css set `[hidden] { display: none !important; }` so we also need the `!important` here to be able to override the default hidden behavior on the sphinx rendered scikit-learn.org. See: https://github.com/scikit-learn/scikit-learn/issues/21755 */display: inline-block !important;position: relative;}#sk-container-id-1 div.sk-text-repr-fallback {display: none;}</style><div id=\"sk-container-id-1\" class=\"sk-top-container\"><div class=\"sk-text-repr-fallback\"><pre>GridSearchCV(cv=5, estimator=ExtraTreesClassifier(), n_jobs=-1,\n",
       "             param_grid={&#x27;max_depth&#x27;: array([ 5,  7,  9, 11, 13, 15, 17, 19, 21, 23]),\n",
       "                         &#x27;max_features&#x27;: (&#x27;auto&#x27;, &#x27;log2&#x27;),\n",
       "                         &#x27;min_samples_split&#x27;: array([ 481, 1445, 2409, 3372, 4336, 5300, 6264, 7227, 8191, 9155]),\n",
       "                         &#x27;n_estimators&#x27;: [15, 35, 70, 141, 210]},\n",
       "             verbose=5)</pre><b>In a Jupyter environment, please rerun this cell to show the HTML representation or trust the notebook. <br />On GitHub, the HTML representation is unable to render, please try loading this page with nbviewer.org.</b></div><div class=\"sk-container\" hidden><div class=\"sk-item sk-dashed-wrapped\"><div class=\"sk-label-container\"><div class=\"sk-label sk-toggleable\"><input class=\"sk-toggleable__control sk-hidden--visually\" id=\"sk-estimator-id-1\" type=\"checkbox\" ><label for=\"sk-estimator-id-1\" class=\"sk-toggleable__label sk-toggleable__label-arrow\">GridSearchCV</label><div class=\"sk-toggleable__content\"><pre>GridSearchCV(cv=5, estimator=ExtraTreesClassifier(), n_jobs=-1,\n",
       "             param_grid={&#x27;max_depth&#x27;: array([ 5,  7,  9, 11, 13, 15, 17, 19, 21, 23]),\n",
       "                         &#x27;max_features&#x27;: (&#x27;auto&#x27;, &#x27;log2&#x27;),\n",
       "                         &#x27;min_samples_split&#x27;: array([ 481, 1445, 2409, 3372, 4336, 5300, 6264, 7227, 8191, 9155]),\n",
       "                         &#x27;n_estimators&#x27;: [15, 35, 70, 141, 210]},\n",
       "             verbose=5)</pre></div></div></div><div class=\"sk-parallel\"><div class=\"sk-parallel-item\"><div class=\"sk-item\"><div class=\"sk-label-container\"><div class=\"sk-label sk-toggleable\"><input class=\"sk-toggleable__control sk-hidden--visually\" id=\"sk-estimator-id-2\" type=\"checkbox\" ><label for=\"sk-estimator-id-2\" class=\"sk-toggleable__label sk-toggleable__label-arrow\">estimator: ExtraTreesClassifier</label><div class=\"sk-toggleable__content\"><pre>ExtraTreesClassifier()</pre></div></div></div><div class=\"sk-serial\"><div class=\"sk-item\"><div class=\"sk-estimator sk-toggleable\"><input class=\"sk-toggleable__control sk-hidden--visually\" id=\"sk-estimator-id-3\" type=\"checkbox\" ><label for=\"sk-estimator-id-3\" class=\"sk-toggleable__label sk-toggleable__label-arrow\">ExtraTreesClassifier</label><div class=\"sk-toggleable__content\"><pre>ExtraTreesClassifier()</pre></div></div></div></div></div></div></div></div></div></div>"
      ],
      "text/plain": [
       "GridSearchCV(cv=5, estimator=ExtraTreesClassifier(), n_jobs=-1,\n",
       "             param_grid={'max_depth': array([ 5,  7,  9, 11, 13, 15, 17, 19, 21, 23]),\n",
       "                         'max_features': ('auto', 'log2'),\n",
       "                         'min_samples_split': array([ 481, 1445, 2409, 3372, 4336, 5300, 6264, 7227, 8191, 9155]),\n",
       "                         'n_estimators': [15, 35, 70, 141, 210]},\n",
       "             verbose=5)"
      ]
     },
     "execution_count": 32,
     "metadata": {},
     "output_type": "execute_result"
    }
   ],
   "source": [
    "param_grid = {'n_estimators': [15,35,70,141,210],\n",
    "              'max_depth':np.arange(5,25,2),\n",
    "              'max_features':('auto','log2'),\n",
    "              'min_samples_split': (np.arange(0.01,0.21,0.02)*len(x_train)).astype(int)}\n",
    "grid = GridSearchCV(ExtraTreesClassifier(),param_grid, cv=5, verbose=5,refit = True,n_jobs=-1) \n",
    "grid.fit(x_train, y_train)"
   ]
  },
  {
   "cell_type": "code",
   "execution_count": 40,
   "id": "81061fa1-58d3-4ef8-9a6b-a0ac71129df7",
   "metadata": {},
   "outputs": [
    {
     "name": "stdout",
     "output_type": "stream",
     "text": [
      "accuracy train:  0.5224447442150046\n",
      "cf_matrix on train:    [[ 3752 10931    20]\n",
      " [ 2327 21218   105]\n",
      " [  902  8726   204]]\n",
      "accuracy test:   0.5144873302683631\n",
      "cf_matrix: on test:     [[ 804 2355    3]\n",
      " [ 495 3975   28]\n",
      " [ 165 1495   33]]\n",
      "precision_score train:  0.5453001291302167\n",
      "precision_score test:   0.5232960375594137\n",
      "recall_score train:  0.5224447442150046\n",
      "recall_score test:   0.5144873302683631\n",
      "f1_score train:  0.4365834060679484\n",
      "f1_score test:   0.4345692806329173\n"
     ]
    }
   ],
   "source": [
    "grid.best_params_\n",
    "ERT=ExtraTreesClassifier(max_depth= 15,\n",
    " max_features= 'log2',\n",
    " min_samples_split= 481,\n",
    " n_estimators= 141)\n",
    "ERT.fit(x_train,y_train)\n",
    "y_train_pred = ERT.predict(x_train)\n",
    "y_test_pred = ERT.predict(x_test)\n",
    "\n",
    "\n",
    "#ADAB=AdaBoostClassifier(n_estimators= 73,algorithm='SAMME')\n",
    "#ADAB.fit(x_train,y_train)\n",
    "#y_train_pred = ADAB.predict(x_train)\n",
    "#y_test_pred = ADAB.predict(x_test)\n",
    "\n",
    "print('accuracy train:  ' + str(sklearn.metrics.accuracy_score(y_train, y_train_pred)))\n",
    "print('cf_matrix on train:    ' + str(sklearn.metrics.confusion_matrix(y_train, y_train_pred)))\n",
    "\n",
    "print('accuracy test:   ' + str(sklearn.metrics.accuracy_score(y_test, y_test_pred)))\n",
    "print('cf_matrix: on test:     ' + str(sklearn.metrics.confusion_matrix(y_test, y_test_pred)))\n",
    "\n",
    "print('precision_score train:  ' + str(sklearn.metrics.precision_score(y_train, y_train_pred, average=\"weighted\")))\n",
    "print('precision_score test:   ' + str(sklearn.metrics.precision_score(y_test, y_test_pred, average=\"weighted\")))\n",
    "\n",
    "print('recall_score train:  ' + str(sklearn.metrics.recall_score(y_train, y_train_pred, average=\"weighted\")))\n",
    "print('recall_score test:   ' + str(sklearn.metrics.recall_score(y_test, y_test_pred, average=\"weighted\")))\n",
    "\n",
    "print('f1_score train:  ' + str(sklearn.metrics.f1_score(y_train, y_train_pred, average=\"weighted\")))\n",
    "print('f1_score test:   ' + str(sklearn.metrics.f1_score(y_test, y_test_pred, average=\"weighted\")))"
   ]
  },
  {
   "cell_type": "code",
   "execution_count": 55,
   "id": "6b079f2f-c01c-4a2b-ac3c-23b58cf9a3f0",
   "metadata": {},
   "outputs": [],
   "source": [
    "oforest_proba=pd.DataFrame(oforest.predict(X=x_test, prob=True)['predictions'], columns=[t+\"_OForest\" for t in new_dep_var_dict.values()])"
   ]
  },
  {
   "cell_type": "code",
   "execution_count": 56,
   "id": "dba3ea71-e911-485c-af10-9adcac0e24b0",
   "metadata": {},
   "outputs": [],
   "source": [
    "y_test_pred_proba = ERT.predict_proba(x_test)\n",
    "ert_probs=pd.DataFrame(y_test_pred_proba, columns=[t+\"_ERT\" for t in new_dep_var_dict.values()])"
   ]
  },
  {
   "cell_type": "code",
   "execution_count": 60,
   "id": "025eda5d-837b-4ed1-b726-c9ecc78ab21e",
   "metadata": {},
   "outputs": [],
   "source": [
    "df_test=pd.concat([df_crashes[df_crashes['Reporting year']>2020].reset_index(drop=True),\n",
    "                   ert_probs,oforest_proba],axis=1)"
   ]
  },
  {
   "cell_type": "code",
   "execution_count": 65,
   "id": "d8b360fd-d217-4932-bf8b-a5926ad4f6c6",
   "metadata": {},
   "outputs": [],
   "source": [
    "df_test['DependentVariable']=df_test.DepVar.map(new_dep_var_dict)"
   ]
  },
  {
   "cell_type": "code",
   "execution_count": 67,
   "id": "52df9264-e9eb-4ac0-9677-c7326ba2799e",
   "metadata": {},
   "outputs": [],
   "source": [
    "df_test.to_csv('model_results.csv')"
   ]
  }
 ],
 "metadata": {
  "kernelspec": {
   "display_name": "Python 3 (ipykernel)",
   "language": "python",
   "name": "python3"
  },
  "language_info": {
   "codemirror_mode": {
    "name": "ipython",
    "version": 3
   },
   "file_extension": ".py",
   "mimetype": "text/x-python",
   "name": "python",
   "nbconvert_exporter": "python",
   "pygments_lexer": "ipython3",
   "version": "3.10.4"
  }
 },
 "nbformat": 4,
 "nbformat_minor": 5
}
