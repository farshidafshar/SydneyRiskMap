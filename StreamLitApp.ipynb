{
 "cells": [
  {
   "cell_type": "code",
   "execution_count": 1,
   "id": "eeb4603c-b39b-451e-8026-43cf8c456e12",
   "metadata": {},
   "outputs": [],
   "source": [
    "###import some easy peasy packages\n",
    "import warnings\n",
    "warnings.simplefilter(\"ignore\")\n",
    "import pandas as pd\n",
    "import numpy as np\n",
    "import streamlit as st\n",
    "import geopandas as gpd\n",
    "import folium\n",
    "from streamlit_folium import st_folium\n"
   ]
  },
  {
   "cell_type": "code",
   "execution_count": 2,
   "id": "351bcf39-5e5c-47f4-875f-0ec2e417a4de",
   "metadata": {},
   "outputs": [
    {
     "name": "stderr",
     "output_type": "stream",
     "text": [
      "2023-01-20 20:12:07.290 WARNING fiona.ogrext: Skipping field highway: invalid type 5\n",
      "2023-01-20 20:12:07.292 WARNING fiona.ogrext: Skipping field width: invalid type 5\n",
      "2023-01-20 20:12:07.293 WARNING fiona.ogrext: Skipping field name: invalid type 5\n",
      "2023-01-20 20:12:07.294 WARNING fiona.ogrext: Skipping field lanes: invalid type 5\n",
      "2023-01-20 20:12:07.295 WARNING fiona.ogrext: Skipping field maxspeed: invalid type 5\n"
     ]
    }
   ],
   "source": [
    "#### Read a bit of data!\n",
    "df_geo=gpd.read_file('app_geo.json')\n",
    "df_model_result=pd.read_csv('model_results.csv')"
   ]
  },
  {
   "cell_type": "code",
   "execution_count": 4,
   "id": "6ce761ec-472c-4a23-8d5c-b8d348992f44",
   "metadata": {},
   "outputs": [
    {
     "name": "stderr",
     "output_type": "stream",
     "text": [
      "2023-01-20 20:12:09.913 \n",
      "  \u001b[33m\u001b[1mWarning:\u001b[0m to view this Streamlit app on a browser, run it with the following\n",
      "  command:\n",
      "\n",
      "    streamlit run C:\\Users\\Asus\\Anaconda3\\envs\\st_env\\lib\\site-packages\\ipykernel_launcher.py [ARGUMENTS]\n"
     ]
    }
   ],
   "source": [
    "#### config streamlit layout and sidebars\n",
    "st.set_page_config(layout=\"wide\")\n",
    "st.markdown('Welcome To Sydney Safety RiskMap (SSR) Demo Webapp')\n",
    "select_months_of_crash=st.sidebar.multiselect(label='CrashMonth',\n",
    "                                              options=df_model_result['Month of crash'].unique().tolist(),\n",
    "                                               default=df_model_result['Month of crash'].unique().tolist()\n",
    "                                              , help='Choose Atleast One Month')\n",
    "\n",
    "select_intervals_of_crash=st.sidebar.multiselect(label='CrashInterval',\n",
    "                                              options=df_model_result['Two-hour intervals'].unique().tolist(),\n",
    "                                               default=df_model_result['Two-hour intervals'].unique().tolist()\n",
    "                                              , help='Choose Atleast One Interval')\n",
    "\n",
    "#select_urbanisation_of_crash=st.sidebar.multiselect(label='UrbanisationArea',\n",
    "#                                              options=df_model_result['Urbanisation'].unique().tolist(),\n",
    "#                                               default=df_model_result['Urbanisation'].unique().tolist()\n",
    "#                                              , help='Choose Atleast One Area')\n",
    "\n",
    "select_day_name_of_crash=st.sidebar.multiselect(label='DayofWeek',\n",
    "                                              options=df_model_result['Day of week of crash'].unique().tolist(),\n",
    "                                               default=df_model_result['Day of week of crash'].unique().tolist()\n",
    "                                              , help='Choose Atleast One Day')\n",
    "selected_model = st.radio(\"Choose a Model\",\n",
    "                ('OrderedForest','ExtremelyRandomizedTrees'))\n",
    "if selected_model=='OrderedForest':\n",
    "    all_select_cols=['DepVar','Vul_user_presense' ,'Speed limit_num','NoInjury_OForest', 'MinorInjury_OForest', 'MajorInjury_Fatal_OForest',\n",
    "                     'Street of crash']\n",
    "else:\n",
    "    all_select_cols=['DepVar','Vul_user_presense' ,'Speed limit_num','NoInjury_ERT', 'MinorInjury_ERT', 'MajorInjury_Fatal_ERT',\n",
    "                     'Street of crash']"
   ]
  },
  {
   "cell_type": "code",
   "execution_count": 5,
   "id": "b9724b8c-ebcb-49b6-8ae3-872366fcc0fe",
   "metadata": {},
   "outputs": [],
   "source": [
    "###aggregate data over streets and get a weighted average index\n",
    "df_pvt_show=df_model_result.loc[(df_model_result['Month of crash'].isin(select_months_of_crash)&\n",
    "                                df_model_result['Two-hour intervals'].isin(select_intervals_of_crash)&\n",
    "                                df_model_result['Day of week of crash'].isin(select_day_name_of_crash))] \\\n",
    "[all_select_cols].pivot_table(index=['Street of crash'], values=[t for t in all_select_cols if t!='Street of crash'],\n",
    "                                             aggfunc='mean').reset_index()\\\n",
    "                                            .rename(columns={'Street of crash':\"StreetName\",\n",
    "                                                             'Speed limit_num':'SpeedLimit',\n",
    "                                                             'Vul_user_presense':'VulnerableUserPresense'})\n",
    "p1=df_pvt_show.filter(regex='MajorInjury_Fatal').mean(axis=1)*3\n",
    "p2=df_pvt_show.filter(regex='MinorInjury').mean(axis=1)*2\n",
    "p3=df_pvt_show.filter(regex='NoInjury').mean(axis=1)*1\n",
    "\n",
    "df_pvt_show['PredictedRisk']=(p1+p2+p3)/3\n",
    "df_pvt_show['ActualRisk']=df_pvt_show['DepVar']/3\n",
    "df_pvt_show['geometry']=df_pvt_show.StreetName.map(dict(zip(df_geo.StreetName,df_geo.geometry)))\n",
    "gdf_show=gpd.GeoDataFrame(df_pvt_show[['StreetName','geometry','SpeedLimit','VulnerableUserPresense','PredictedRisk','ActualRisk']])\\\n",
    "            .set_crs('epsg:4326')"
   ]
  },
  {
   "cell_type": "code",
   "execution_count": 6,
   "id": "06543d15-c847-4841-8d32-e7ed6dffb9aa",
   "metadata": {},
   "outputs": [],
   "source": [
    "####explore the map over folium\n",
    "start_point=[-33.7673779,150.9488911]\n",
    "\n",
    "\n",
    "m_pred=gdf_show.dropna(subset=['geometry']).reset_index(drop=True).set_crs('epsg:4326').explore(column='PredictedRisk'\n",
    "                                                                                           ,cmap='RdYlGn_r'\n",
    "                                                                                           ,tiles='cartodbdark_matter')\n",
    "m_actl=gdf_show.dropna(subset=['geometry']).reset_index(drop=True).set_crs('epsg:4326').explore(column='ActualRisk'\n",
    "                                                                                           ,cmap='RdYlGn_r'\n",
    "                                                                                           ,tiles='cartodbdark_matter')\n",
    "col1, col2 = st.columns(2)\n",
    "col1.header(\"Actual\")\n",
    "col2.header(\"Prediction\")\n",
    "with col1:\n",
    "    st_folium(m_actl, width=2704)\n",
    "with col2:\n",
    "    st_folium(m_pred, width=2704)  "
   ]
  }
 ],
 "metadata": {
  "kernelspec": {
   "display_name": "Python 3 (ipykernel)",
   "language": "python",
   "name": "python3"
  },
  "language_info": {
   "codemirror_mode": {
    "name": "ipython",
    "version": 3
   },
   "file_extension": ".py",
   "mimetype": "text/x-python",
   "name": "python",
   "nbconvert_exporter": "python",
   "pygments_lexer": "ipython3",
   "version": "3.10.4"
  }
 },
 "nbformat": 4,
 "nbformat_minor": 5
}
